{
 "cells": [
  {
   "cell_type": "markdown",
   "id": "cb67dd7f",
   "metadata": {},
   "source": [
    "# Logistic Regression prediction of surviving a Titanic accident"
   ]
  },
  {
   "cell_type": "markdown",
   "id": "7d9bf1fe",
   "metadata": {},
   "source": [
    "### Data\n",
    "----\n",
    "Dataset consists of historical data of passangers participating in Titanic crash. Data has many information about a passanger located in several feature columns, labale column - 'Survived'. Label column informs us if certain passanger survived Titanic crash. We will try to create a ML model thats predicts chance of surviving based on feature columns. \n",
    "\n",
    "The data has been split into two groups:\n",
    "- training set (train.csv)\n",
    "- test set (test.csv)\n",
    "\n",
    "We will build and evaluate our ML model based on training set. Finally we will predict the outcome on test set (test set doesn't have a 'Survived' column.\n",
    "\n",
    "Data - https://www.kaggle.com/competitions/titanic/overview"
   ]
  },
  {
   "cell_type": "markdown",
   "id": "2c8f7379",
   "metadata": {},
   "source": [
    "### Load our data"
   ]
  },
  {
   "cell_type": "code",
   "execution_count": 329,
   "id": "14eee57d",
   "metadata": {},
   "outputs": [],
   "source": [
    "import numpy as np\n",
    "import pandas as pd\n",
    "import matplotlib.pyplot as plt\n",
    "import seaborn as sns"
   ]
  },
  {
   "cell_type": "code",
   "execution_count": 330,
   "id": "1283f0e5",
   "metadata": {},
   "outputs": [],
   "source": [
    "df_train = pd.read_csv('train.csv')"
   ]
  },
  {
   "cell_type": "code",
   "execution_count": 331,
   "id": "d7c9b03a",
   "metadata": {},
   "outputs": [
    {
     "data": {
      "text/html": [
       "<div>\n",
       "<style scoped>\n",
       "    .dataframe tbody tr th:only-of-type {\n",
       "        vertical-align: middle;\n",
       "    }\n",
       "\n",
       "    .dataframe tbody tr th {\n",
       "        vertical-align: top;\n",
       "    }\n",
       "\n",
       "    .dataframe thead th {\n",
       "        text-align: right;\n",
       "    }\n",
       "</style>\n",
       "<table border=\"1\" class=\"dataframe\">\n",
       "  <thead>\n",
       "    <tr style=\"text-align: right;\">\n",
       "      <th></th>\n",
       "      <th>PassengerId</th>\n",
       "      <th>Survived</th>\n",
       "      <th>Pclass</th>\n",
       "      <th>Name</th>\n",
       "      <th>Sex</th>\n",
       "      <th>Age</th>\n",
       "      <th>SibSp</th>\n",
       "      <th>Parch</th>\n",
       "      <th>Ticket</th>\n",
       "      <th>Fare</th>\n",
       "      <th>Cabin</th>\n",
       "      <th>Embarked</th>\n",
       "    </tr>\n",
       "  </thead>\n",
       "  <tbody>\n",
       "    <tr>\n",
       "      <th>0</th>\n",
       "      <td>1</td>\n",
       "      <td>0</td>\n",
       "      <td>3</td>\n",
       "      <td>Braund, Mr. Owen Harris</td>\n",
       "      <td>male</td>\n",
       "      <td>22.0</td>\n",
       "      <td>1</td>\n",
       "      <td>0</td>\n",
       "      <td>A/5 21171</td>\n",
       "      <td>7.2500</td>\n",
       "      <td>NaN</td>\n",
       "      <td>S</td>\n",
       "    </tr>\n",
       "    <tr>\n",
       "      <th>1</th>\n",
       "      <td>2</td>\n",
       "      <td>1</td>\n",
       "      <td>1</td>\n",
       "      <td>Cumings, Mrs. John Bradley (Florence Briggs Th...</td>\n",
       "      <td>female</td>\n",
       "      <td>38.0</td>\n",
       "      <td>1</td>\n",
       "      <td>0</td>\n",
       "      <td>PC 17599</td>\n",
       "      <td>71.2833</td>\n",
       "      <td>C85</td>\n",
       "      <td>C</td>\n",
       "    </tr>\n",
       "    <tr>\n",
       "      <th>2</th>\n",
       "      <td>3</td>\n",
       "      <td>1</td>\n",
       "      <td>3</td>\n",
       "      <td>Heikkinen, Miss. Laina</td>\n",
       "      <td>female</td>\n",
       "      <td>26.0</td>\n",
       "      <td>0</td>\n",
       "      <td>0</td>\n",
       "      <td>STON/O2. 3101282</td>\n",
       "      <td>7.9250</td>\n",
       "      <td>NaN</td>\n",
       "      <td>S</td>\n",
       "    </tr>\n",
       "    <tr>\n",
       "      <th>3</th>\n",
       "      <td>4</td>\n",
       "      <td>1</td>\n",
       "      <td>1</td>\n",
       "      <td>Futrelle, Mrs. Jacques Heath (Lily May Peel)</td>\n",
       "      <td>female</td>\n",
       "      <td>35.0</td>\n",
       "      <td>1</td>\n",
       "      <td>0</td>\n",
       "      <td>113803</td>\n",
       "      <td>53.1000</td>\n",
       "      <td>C123</td>\n",
       "      <td>S</td>\n",
       "    </tr>\n",
       "    <tr>\n",
       "      <th>4</th>\n",
       "      <td>5</td>\n",
       "      <td>0</td>\n",
       "      <td>3</td>\n",
       "      <td>Allen, Mr. William Henry</td>\n",
       "      <td>male</td>\n",
       "      <td>35.0</td>\n",
       "      <td>0</td>\n",
       "      <td>0</td>\n",
       "      <td>373450</td>\n",
       "      <td>8.0500</td>\n",
       "      <td>NaN</td>\n",
       "      <td>S</td>\n",
       "    </tr>\n",
       "  </tbody>\n",
       "</table>\n",
       "</div>"
      ],
      "text/plain": [
       "   PassengerId  Survived  Pclass  \\\n",
       "0            1         0       3   \n",
       "1            2         1       1   \n",
       "2            3         1       3   \n",
       "3            4         1       1   \n",
       "4            5         0       3   \n",
       "\n",
       "                                                Name     Sex   Age  SibSp  \\\n",
       "0                            Braund, Mr. Owen Harris    male  22.0      1   \n",
       "1  Cumings, Mrs. John Bradley (Florence Briggs Th...  female  38.0      1   \n",
       "2                             Heikkinen, Miss. Laina  female  26.0      0   \n",
       "3       Futrelle, Mrs. Jacques Heath (Lily May Peel)  female  35.0      1   \n",
       "4                           Allen, Mr. William Henry    male  35.0      0   \n",
       "\n",
       "   Parch            Ticket     Fare Cabin Embarked  \n",
       "0      0         A/5 21171   7.2500   NaN        S  \n",
       "1      0          PC 17599  71.2833   C85        C  \n",
       "2      0  STON/O2. 3101282   7.9250   NaN        S  \n",
       "3      0            113803  53.1000  C123        S  \n",
       "4      0            373450   8.0500   NaN        S  "
      ]
     },
     "execution_count": 331,
     "metadata": {},
     "output_type": "execute_result"
    }
   ],
   "source": [
    "df_train.head()"
   ]
  },
  {
   "cell_type": "code",
   "execution_count": 332,
   "id": "8ffcb887",
   "metadata": {},
   "outputs": [
    {
     "name": "stdout",
     "output_type": "stream",
     "text": [
      "<class 'pandas.core.frame.DataFrame'>\n",
      "RangeIndex: 891 entries, 0 to 890\n",
      "Data columns (total 12 columns):\n",
      " #   Column       Non-Null Count  Dtype  \n",
      "---  ------       --------------  -----  \n",
      " 0   PassengerId  891 non-null    int64  \n",
      " 1   Survived     891 non-null    int64  \n",
      " 2   Pclass       891 non-null    int64  \n",
      " 3   Name         891 non-null    object \n",
      " 4   Sex          891 non-null    object \n",
      " 5   Age          714 non-null    float64\n",
      " 6   SibSp        891 non-null    int64  \n",
      " 7   Parch        891 non-null    int64  \n",
      " 8   Ticket       891 non-null    object \n",
      " 9   Fare         891 non-null    float64\n",
      " 10  Cabin        204 non-null    object \n",
      " 11  Embarked     889 non-null    object \n",
      "dtypes: float64(2), int64(5), object(5)\n",
      "memory usage: 83.7+ KB\n"
     ]
    }
   ],
   "source": [
    "df_train.info()"
   ]
  },
  {
   "cell_type": "code",
   "execution_count": 333,
   "id": "b5356bf1",
   "metadata": {},
   "outputs": [],
   "source": [
    "df_test = pd.read_csv('test.csv')"
   ]
  },
  {
   "cell_type": "code",
   "execution_count": 334,
   "id": "d722bb9a",
   "metadata": {},
   "outputs": [
    {
     "data": {
      "text/html": [
       "<div>\n",
       "<style scoped>\n",
       "    .dataframe tbody tr th:only-of-type {\n",
       "        vertical-align: middle;\n",
       "    }\n",
       "\n",
       "    .dataframe tbody tr th {\n",
       "        vertical-align: top;\n",
       "    }\n",
       "\n",
       "    .dataframe thead th {\n",
       "        text-align: right;\n",
       "    }\n",
       "</style>\n",
       "<table border=\"1\" class=\"dataframe\">\n",
       "  <thead>\n",
       "    <tr style=\"text-align: right;\">\n",
       "      <th></th>\n",
       "      <th>PassengerId</th>\n",
       "      <th>Pclass</th>\n",
       "      <th>Name</th>\n",
       "      <th>Sex</th>\n",
       "      <th>Age</th>\n",
       "      <th>SibSp</th>\n",
       "      <th>Parch</th>\n",
       "      <th>Ticket</th>\n",
       "      <th>Fare</th>\n",
       "      <th>Cabin</th>\n",
       "      <th>Embarked</th>\n",
       "    </tr>\n",
       "  </thead>\n",
       "  <tbody>\n",
       "    <tr>\n",
       "      <th>0</th>\n",
       "      <td>892</td>\n",
       "      <td>3</td>\n",
       "      <td>Kelly, Mr. James</td>\n",
       "      <td>male</td>\n",
       "      <td>34.5</td>\n",
       "      <td>0</td>\n",
       "      <td>0</td>\n",
       "      <td>330911</td>\n",
       "      <td>7.8292</td>\n",
       "      <td>NaN</td>\n",
       "      <td>Q</td>\n",
       "    </tr>\n",
       "    <tr>\n",
       "      <th>1</th>\n",
       "      <td>893</td>\n",
       "      <td>3</td>\n",
       "      <td>Wilkes, Mrs. James (Ellen Needs)</td>\n",
       "      <td>female</td>\n",
       "      <td>47.0</td>\n",
       "      <td>1</td>\n",
       "      <td>0</td>\n",
       "      <td>363272</td>\n",
       "      <td>7.0000</td>\n",
       "      <td>NaN</td>\n",
       "      <td>S</td>\n",
       "    </tr>\n",
       "    <tr>\n",
       "      <th>2</th>\n",
       "      <td>894</td>\n",
       "      <td>2</td>\n",
       "      <td>Myles, Mr. Thomas Francis</td>\n",
       "      <td>male</td>\n",
       "      <td>62.0</td>\n",
       "      <td>0</td>\n",
       "      <td>0</td>\n",
       "      <td>240276</td>\n",
       "      <td>9.6875</td>\n",
       "      <td>NaN</td>\n",
       "      <td>Q</td>\n",
       "    </tr>\n",
       "    <tr>\n",
       "      <th>3</th>\n",
       "      <td>895</td>\n",
       "      <td>3</td>\n",
       "      <td>Wirz, Mr. Albert</td>\n",
       "      <td>male</td>\n",
       "      <td>27.0</td>\n",
       "      <td>0</td>\n",
       "      <td>0</td>\n",
       "      <td>315154</td>\n",
       "      <td>8.6625</td>\n",
       "      <td>NaN</td>\n",
       "      <td>S</td>\n",
       "    </tr>\n",
       "    <tr>\n",
       "      <th>4</th>\n",
       "      <td>896</td>\n",
       "      <td>3</td>\n",
       "      <td>Hirvonen, Mrs. Alexander (Helga E Lindqvist)</td>\n",
       "      <td>female</td>\n",
       "      <td>22.0</td>\n",
       "      <td>1</td>\n",
       "      <td>1</td>\n",
       "      <td>3101298</td>\n",
       "      <td>12.2875</td>\n",
       "      <td>NaN</td>\n",
       "      <td>S</td>\n",
       "    </tr>\n",
       "  </tbody>\n",
       "</table>\n",
       "</div>"
      ],
      "text/plain": [
       "   PassengerId  Pclass                                          Name     Sex  \\\n",
       "0          892       3                              Kelly, Mr. James    male   \n",
       "1          893       3              Wilkes, Mrs. James (Ellen Needs)  female   \n",
       "2          894       2                     Myles, Mr. Thomas Francis    male   \n",
       "3          895       3                              Wirz, Mr. Albert    male   \n",
       "4          896       3  Hirvonen, Mrs. Alexander (Helga E Lindqvist)  female   \n",
       "\n",
       "    Age  SibSp  Parch   Ticket     Fare Cabin Embarked  \n",
       "0  34.5      0      0   330911   7.8292   NaN        Q  \n",
       "1  47.0      1      0   363272   7.0000   NaN        S  \n",
       "2  62.0      0      0   240276   9.6875   NaN        Q  \n",
       "3  27.0      0      0   315154   8.6625   NaN        S  \n",
       "4  22.0      1      1  3101298  12.2875   NaN        S  "
      ]
     },
     "execution_count": 334,
     "metadata": {},
     "output_type": "execute_result"
    }
   ],
   "source": [
    "df_test.head()"
   ]
  },
  {
   "cell_type": "code",
   "execution_count": 335,
   "id": "6ed23d27",
   "metadata": {},
   "outputs": [
    {
     "name": "stdout",
     "output_type": "stream",
     "text": [
      "<class 'pandas.core.frame.DataFrame'>\n",
      "RangeIndex: 418 entries, 0 to 417\n",
      "Data columns (total 11 columns):\n",
      " #   Column       Non-Null Count  Dtype  \n",
      "---  ------       --------------  -----  \n",
      " 0   PassengerId  418 non-null    int64  \n",
      " 1   Pclass       418 non-null    int64  \n",
      " 2   Name         418 non-null    object \n",
      " 3   Sex          418 non-null    object \n",
      " 4   Age          332 non-null    float64\n",
      " 5   SibSp        418 non-null    int64  \n",
      " 6   Parch        418 non-null    int64  \n",
      " 7   Ticket       418 non-null    object \n",
      " 8   Fare         417 non-null    float64\n",
      " 9   Cabin        91 non-null     object \n",
      " 10  Embarked     418 non-null    object \n",
      "dtypes: float64(2), int64(4), object(5)\n",
      "memory usage: 36.0+ KB\n"
     ]
    }
   ],
   "source": [
    "df_test.info()"
   ]
  },
  {
   "cell_type": "markdown",
   "id": "a1bb62d4",
   "metadata": {},
   "source": [
    "----\n",
    "We have to handle missing data, transform data in columns into numeric type. We have to do it both in train and test DataFrame"
   ]
  },
  {
   "cell_type": "markdown",
   "id": "97c6545b",
   "metadata": {},
   "source": [
    "#### Missing data"
   ]
  },
  {
   "cell_type": "code",
   "execution_count": 336,
   "id": "91b1454a",
   "metadata": {},
   "outputs": [
    {
     "data": {
      "text/plain": [
       "PassengerId      0\n",
       "Survived         0\n",
       "Pclass           0\n",
       "Name             0\n",
       "Sex              0\n",
       "Age            177\n",
       "SibSp            0\n",
       "Parch            0\n",
       "Ticket           0\n",
       "Fare             0\n",
       "Cabin          687\n",
       "Embarked         2\n",
       "dtype: int64"
      ]
     },
     "execution_count": 336,
     "metadata": {},
     "output_type": "execute_result"
    }
   ],
   "source": [
    "df_train.isnull().sum()"
   ]
  },
  {
   "cell_type": "code",
   "execution_count": 337,
   "id": "f1980c82",
   "metadata": {},
   "outputs": [
    {
     "data": {
      "text/plain": [
       "PassengerId      0\n",
       "Pclass           0\n",
       "Name             0\n",
       "Sex              0\n",
       "Age             86\n",
       "SibSp            0\n",
       "Parch            0\n",
       "Ticket           0\n",
       "Fare             1\n",
       "Cabin          327\n",
       "Embarked         0\n",
       "dtype: int64"
      ]
     },
     "execution_count": 337,
     "metadata": {},
     "output_type": "execute_result"
    }
   ],
   "source": [
    "df_test.isnull().sum()"
   ]
  },
  {
   "cell_type": "markdown",
   "id": "670b0a6e",
   "metadata": {},
   "source": [
    "We have to do something with these columns:\n",
    "- Age\n",
    "- Cabin\n",
    "- Embarked\n",
    "\n",
    "In train DataFrame\n",
    "\n",
    "- Age\n",
    "- Fare\n",
    "- Cabin\n",
    "\n",
    "In test DataFrame\n"
   ]
  },
  {
   "cell_type": "markdown",
   "id": "37d7c7b4",
   "metadata": {},
   "source": [
    "We will fill NaN with a mean value in Age column"
   ]
  },
  {
   "cell_type": "code",
   "execution_count": 338,
   "id": "7d193df1",
   "metadata": {},
   "outputs": [],
   "source": [
    "# 'Age'\n",
    "df_train['Age'].fillna(df_train['Age'].mean(), inplace=True)\n",
    "df_test['Age'].fillna(df_test['Age'].mean(), inplace=True)"
   ]
  },
  {
   "cell_type": "markdown",
   "id": "acc42a5e",
   "metadata": {},
   "source": [
    "We will fill NaN with a mean value in Fare column"
   ]
  },
  {
   "cell_type": "code",
   "execution_count": 339,
   "id": "bd58425e",
   "metadata": {},
   "outputs": [],
   "source": [
    "# 'Fare'\n",
    "df_test['Fare'].fillna(df_test['Fare'].mean(), inplace=True)"
   ]
  },
  {
   "cell_type": "markdown",
   "id": "235d595c",
   "metadata": {},
   "source": [
    "We will fill NaN with a mostly common value in Embarked"
   ]
  },
  {
   "cell_type": "code",
   "execution_count": 340,
   "id": "802ff53c",
   "metadata": {},
   "outputs": [
    {
     "data": {
      "text/plain": [
       "S    644\n",
       "C    168\n",
       "Q     77\n",
       "Name: Embarked, dtype: int64"
      ]
     },
     "execution_count": 340,
     "metadata": {},
     "output_type": "execute_result"
    }
   ],
   "source": [
    "df_train['Embarked'].value_counts()"
   ]
  },
  {
   "cell_type": "code",
   "execution_count": 341,
   "id": "6c8f5a22",
   "metadata": {},
   "outputs": [],
   "source": [
    "df_train['Embarked'].fillna('S', inplace=True)"
   ]
  },
  {
   "cell_type": "markdown",
   "id": "670a44af",
   "metadata": {},
   "source": [
    "We will put 'X' value if data in Cabin is NaN and separate a prefix from Cabin number"
   ]
  },
  {
   "cell_type": "code",
   "execution_count": 342,
   "id": "fa1184ed",
   "metadata": {},
   "outputs": [],
   "source": [
    "df_train['Cabin'].fillna('X', inplace=True)\n",
    "df_test['Cabin'].fillna('X', inplace=True)"
   ]
  },
  {
   "cell_type": "code",
   "execution_count": 343,
   "id": "5a06732d",
   "metadata": {},
   "outputs": [],
   "source": [
    "cabin_train = []\n",
    "for i in list(df_train.Cabin):\n",
    "    cabin_train.append(i[0])\n",
    "\n",
    "df_train['Cabin_type'] = cabin_train\n",
    "\n",
    "cabin_test = []\n",
    "for i in list(df_test.Cabin):\n",
    "    cabin_test.append(i[0])\n",
    "\n",
    "df_test['Cabin_type'] = cabin_test"
   ]
  },
  {
   "cell_type": "code",
   "execution_count": 344,
   "id": "d4492155",
   "metadata": {},
   "outputs": [
    {
     "data": {
      "text/plain": [
       "array(['X', 'C', 'E', 'G', 'D', 'A', 'B', 'F', 'T'], dtype=object)"
      ]
     },
     "execution_count": 344,
     "metadata": {},
     "output_type": "execute_result"
    }
   ],
   "source": [
    "df_train['Cabin_type'].unique()"
   ]
  },
  {
   "cell_type": "code",
   "execution_count": 345,
   "id": "d9b7f057",
   "metadata": {},
   "outputs": [
    {
     "data": {
      "text/plain": [
       "array(['X', 'B', 'E', 'A', 'C', 'D', 'F', 'G'], dtype=object)"
      ]
     },
     "execution_count": 345,
     "metadata": {},
     "output_type": "execute_result"
    }
   ],
   "source": [
    "df_test['Cabin_type'].unique()"
   ]
  },
  {
   "cell_type": "code",
   "execution_count": 346,
   "id": "cacd40ee",
   "metadata": {},
   "outputs": [],
   "source": [
    "df_train = df_train.drop('Cabin', axis=1)\n",
    "df_test = df_test.drop('Cabin', axis=1)"
   ]
  },
  {
   "cell_type": "code",
   "execution_count": 347,
   "id": "c49d5f6a",
   "metadata": {},
   "outputs": [
    {
     "data": {
      "text/plain": [
       "PassengerId    0\n",
       "Survived       0\n",
       "Pclass         0\n",
       "Name           0\n",
       "Sex            0\n",
       "Age            0\n",
       "SibSp          0\n",
       "Parch          0\n",
       "Ticket         0\n",
       "Fare           0\n",
       "Embarked       0\n",
       "Cabin_type     0\n",
       "dtype: int64"
      ]
     },
     "execution_count": 347,
     "metadata": {},
     "output_type": "execute_result"
    }
   ],
   "source": [
    "df_train.isnull().sum()"
   ]
  },
  {
   "cell_type": "code",
   "execution_count": 348,
   "id": "542275eb",
   "metadata": {},
   "outputs": [
    {
     "data": {
      "text/plain": [
       "PassengerId    0\n",
       "Pclass         0\n",
       "Name           0\n",
       "Sex            0\n",
       "Age            0\n",
       "SibSp          0\n",
       "Parch          0\n",
       "Ticket         0\n",
       "Fare           0\n",
       "Embarked       0\n",
       "Cabin_type     0\n",
       "dtype: int64"
      ]
     },
     "execution_count": 348,
     "metadata": {},
     "output_type": "execute_result"
    }
   ],
   "source": [
    "df_test.isnull().sum()"
   ]
  },
  {
   "cell_type": "markdown",
   "id": "31700087",
   "metadata": {},
   "source": [
    "### We successfully removed all the missing data, now we have to transfrom non-numeric columns into numeric"
   ]
  },
  {
   "cell_type": "markdown",
   "id": "61d27855",
   "metadata": {},
   "source": [
    "Columns with non-numeric data:\n",
    "- Name\n",
    "- Sex\n",
    "- Ticket\n",
    "- Cabin\n",
    "- Emabrked"
   ]
  },
  {
   "cell_type": "markdown",
   "id": "f47da12f",
   "metadata": {},
   "source": [
    "We can see that 'T' value doesn't appear in 'Cabin_type\" column in df_test. If we want to performe our model on df_test, columns have to be the same in both data frames. We will create column for 'T' manually."
   ]
  },
  {
   "cell_type": "code",
   "execution_count": 349,
   "id": "606577e2",
   "metadata": {},
   "outputs": [],
   "source": [
    "# 'Cabin'\n",
    "df_train = pd.get_dummies(data=df_train, columns=['Cabin_type'], drop_first=False)\n",
    "df_test = pd.get_dummies(data=df_test, columns=['Cabin_type'], drop_first=False)"
   ]
  },
  {
   "cell_type": "code",
   "execution_count": 350,
   "id": "91ff59b7",
   "metadata": {},
   "outputs": [],
   "source": [
    "df_test['Cabin_type_T'] = 0"
   ]
  },
  {
   "cell_type": "markdown",
   "id": "3ec25d36",
   "metadata": {},
   "source": [
    "With Sex column we will simply use get_dummies"
   ]
  },
  {
   "cell_type": "code",
   "execution_count": 351,
   "id": "f0c3cfea",
   "metadata": {},
   "outputs": [],
   "source": [
    "# 'Sex'\n",
    "df_train = pd.get_dummies(data=df_train, columns=['Sex'], drop_first=True)\n",
    "df_test = pd.get_dummies(data=df_test, columns=['Sex'], drop_first=True)"
   ]
  },
  {
   "cell_type": "markdown",
   "id": "7ec8936d",
   "metadata": {},
   "source": [
    "The same with Embarked"
   ]
  },
  {
   "cell_type": "code",
   "execution_count": 352,
   "id": "d94804fe",
   "metadata": {},
   "outputs": [],
   "source": [
    "# 'Embarked'\n",
    "df_train = pd.get_dummies(data=df_train, columns=['Embarked'], drop_first=True)\n",
    "df_test = pd.get_dummies(data=df_test, columns=['Embarked'], drop_first=True)"
   ]
  },
  {
   "cell_type": "markdown",
   "id": "0e33589f",
   "metadata": {},
   "source": [
    "Name and Ticket are two coulms that we have to work on, we will separate prefix from ticket number and title from full name"
   ]
  },
  {
   "cell_type": "code",
   "execution_count": 353,
   "id": "39055772",
   "metadata": {},
   "outputs": [],
   "source": [
    "# 'Name'\n",
    "df_train['Title'] = 0\n",
    "df_test['Title'] = 0"
   ]
  },
  {
   "cell_type": "code",
   "execution_count": 354,
   "id": "e9824f63",
   "metadata": {},
   "outputs": [],
   "source": [
    "for i in df_train:\n",
    "    df_train['Title']=df_train.Name.str.extract('([A-Za-z]+)\\.')\n",
    "    \n",
    "for j in df_test:\n",
    "    df_test['Title']=df_test.Name.str.extract('([A-Za-z]+)\\.')"
   ]
  },
  {
   "cell_type": "code",
   "execution_count": 355,
   "id": "9e27299b",
   "metadata": {},
   "outputs": [
    {
     "data": {
      "text/plain": [
       "Mr          517\n",
       "Miss        182\n",
       "Mrs         125\n",
       "Master       40\n",
       "Dr            7\n",
       "Rev           6\n",
       "Major         2\n",
       "Mlle          2\n",
       "Col           2\n",
       "Sir           1\n",
       "Capt          1\n",
       "Don           1\n",
       "Lady          1\n",
       "Ms            1\n",
       "Mme           1\n",
       "Jonkheer      1\n",
       "Countess      1\n",
       "Name: Title, dtype: int64"
      ]
     },
     "execution_count": 355,
     "metadata": {},
     "output_type": "execute_result"
    }
   ],
   "source": [
    "df_train['Title'].value_counts()"
   ]
  },
  {
   "cell_type": "markdown",
   "id": "6c7b7f88",
   "metadata": {},
   "source": [
    "We will group similar titles"
   ]
  },
  {
   "cell_type": "code",
   "execution_count": 356,
   "id": "ac24e930",
   "metadata": {},
   "outputs": [],
   "source": [
    "df_train['Title'].replace(['Mr','Miss','Mrs','Master','Dr','Rev','Major','Mlle','Col','Sir','Capt','Don','Lady','Ms','Mme','Jonkheer','Countess'],\n",
    "                    ['Mr','Mrs','Mrs','Master','Other','Other','Other','Other','Other','Other','Other','Other','Mrs','Mrs','Mrs','Other','Other'],inplace=True)"
   ]
  },
  {
   "cell_type": "code",
   "execution_count": 357,
   "id": "af7373b3",
   "metadata": {},
   "outputs": [
    {
     "data": {
      "image/png": "[encoded data removed]",
      "text/plain": [
       "<Figure size 576x288 with 1 Axes>"
      ]
     },
     "metadata": {
      "needs_background": "light"
     },
     "output_type": "display_data"
    }
   ],
   "source": [
    "plt.figure(figsize=(8,4))\n",
    "sns.countplot(data=df_train, x='Title');"
   ]
  },
  {
   "cell_type": "code",
   "execution_count": 358,
   "id": "ff5b80a0",
   "metadata": {},
   "outputs": [
    {
     "data": {
      "text/plain": [
       "Mr        240\n",
       "Miss       78\n",
       "Mrs        72\n",
       "Master     21\n",
       "Col         2\n",
       "Rev         2\n",
       "Dona        1\n",
       "Dr          1\n",
       "Ms          1\n",
       "Name: Title, dtype: int64"
      ]
     },
     "execution_count": 358,
     "metadata": {},
     "output_type": "execute_result"
    }
   ],
   "source": [
    "df_test['Title'].value_counts()"
   ]
  },
  {
   "cell_type": "markdown",
   "id": "3745d9cf",
   "metadata": {},
   "source": [
    "Same grouping in test DataFrame"
   ]
  },
  {
   "cell_type": "code",
   "execution_count": 359,
   "id": "d2f99234",
   "metadata": {},
   "outputs": [],
   "source": [
    "df_test['Title'].replace(['Mr','Miss','Mrs','Master','Col','Rev','Dona','Dr','Ms'],\n",
    "                        ['Mr','Mrs','Mrs','Master','Other','Other','Other','Other','Mrs'],inplace=True)"
   ]
  },
  {
   "cell_type": "code",
   "execution_count": 360,
   "id": "bf0fcf38",
   "metadata": {},
   "outputs": [
    {
     "data": {
      "image/png": "[encoded data removed]",
      "text/plain": [
       "<Figure size 576x288 with 1 Axes>"
      ]
     },
     "metadata": {
      "needs_background": "light"
     },
     "output_type": "display_data"
    }
   ],
   "source": [
    "plt.figure(figsize=(8,4))\n",
    "sns.countplot(data=df_test, x='Title');"
   ]
  },
  {
   "cell_type": "code",
   "execution_count": 361,
   "id": "8e746054",
   "metadata": {},
   "outputs": [],
   "source": [
    "df_train = pd.get_dummies(data=df_train, columns=['Title'], drop_first=True)\n",
    "df_test = pd.get_dummies(data=df_test, columns=['Title'], drop_first=True)"
   ]
  },
  {
   "cell_type": "code",
   "execution_count": 362,
   "id": "8b82935c",
   "metadata": {},
   "outputs": [],
   "source": [
    "df_train = df_train.drop(columns=['Name'], axis=1)\n",
    "df_test = df_test.drop(columns=['Name'], axis=1)"
   ]
  },
  {
   "cell_type": "markdown",
   "id": "9e326f04",
   "metadata": {},
   "source": [
    "Now separate prefix from ticket number"
   ]
  },
  {
   "cell_type": "code",
   "execution_count": 363,
   "id": "08ecd703",
   "metadata": {},
   "outputs": [],
   "source": [
    "# 'Ticket'\n",
    "ticket_train = []\n",
    "for i in list(df_train.Ticket):\n",
    "    if not i.isdigit() :\n",
    "        ticket_train.append(i.replace(\".\",\"\").replace(\"/\",\"\").strip().split(' ')[0])\n",
    "    else:\n",
    "        ticket_train.append(\"X\")\n",
    "        \n",
    "ticket_test = []\n",
    "for i in list(df_test.Ticket):\n",
    "    if not i.isdigit() :\n",
    "        ticket_test.append(i.replace(\".\",\"\").replace(\"/\",\"\").strip().split(' ')[0])\n",
    "    else:\n",
    "        ticket_test.append(\"X\")"
   ]
  },
  {
   "cell_type": "code",
   "execution_count": 364,
   "id": "a64edc06",
   "metadata": {},
   "outputs": [],
   "source": [
    "ticket_type_train = []\n",
    "for i in ticket_train:\n",
    "    ticket_type_train.append(i[0])\n",
    "\n",
    "df_train['Ticket_type'] = ticket_type_train\n",
    "\n",
    "ticket_type_test = []\n",
    "for i in ticket_test:\n",
    "    ticket_type_test.append(i[0])\n",
    "\n",
    "df_test['Ticket_type'] = ticket_type_test"
   ]
  },
  {
   "cell_type": "code",
   "execution_count": 365,
   "id": "67376488",
   "metadata": {},
   "outputs": [
    {
     "data": {
      "text/plain": [
       "array(['A', 'P', 'S', 'X', 'C', 'W', 'F', 'L'], dtype=object)"
      ]
     },
     "execution_count": 365,
     "metadata": {},
     "output_type": "execute_result"
    }
   ],
   "source": [
    "df_train['Ticket_type'].unique()"
   ]
  },
  {
   "cell_type": "code",
   "execution_count": 366,
   "id": "9943f0a0",
   "metadata": {},
   "outputs": [
    {
     "data": {
      "text/plain": [
       "array(['X', 'A', 'W', 'S', 'P', 'C', 'F', 'L'], dtype=object)"
      ]
     },
     "execution_count": 366,
     "metadata": {},
     "output_type": "execute_result"
    }
   ],
   "source": [
    "df_test['Ticket_type'].unique()"
   ]
  },
  {
   "cell_type": "markdown",
   "id": "f4471bcc",
   "metadata": {},
   "source": [
    "Luckily 'Ticket_type' values are the same in both DataFrames"
   ]
  },
  {
   "cell_type": "code",
   "execution_count": 367,
   "id": "8d8feb0c",
   "metadata": {},
   "outputs": [],
   "source": [
    "df_train = pd.get_dummies(data=df_train, columns=['Ticket_type'], drop_first=True)\n",
    "df_test = pd.get_dummies(data=df_test, columns=['Ticket_type'], drop_first=True)"
   ]
  },
  {
   "cell_type": "code",
   "execution_count": 368,
   "id": "11f3dbd9",
   "metadata": {},
   "outputs": [],
   "source": [
    "df_train = df_train.drop(columns=['Ticket'],axis=1)\n",
    "df_test = df_test.drop(columns=['Ticket'],axis=1)"
   ]
  },
  {
   "cell_type": "markdown",
   "id": "6623e762",
   "metadata": {},
   "source": [
    "### It looks like we have succesfully, got rid of all missing data and transformed non-numeric data into numeric data. Let's make sure we did that correctly before moving to creating ML model"
   ]
  },
  {
   "cell_type": "code",
   "execution_count": 369,
   "id": "094181cd",
   "metadata": {},
   "outputs": [
    {
     "data": {
      "text/plain": [
       "PassengerId      0\n",
       "Survived         0\n",
       "Pclass           0\n",
       "Age              0\n",
       "SibSp            0\n",
       "Parch            0\n",
       "Fare             0\n",
       "Cabin_type_A     0\n",
       "Cabin_type_B     0\n",
       "Cabin_type_C     0\n",
       "Cabin_type_D     0\n",
       "Cabin_type_E     0\n",
       "Cabin_type_F     0\n",
       "Cabin_type_G     0\n",
       "Cabin_type_T     0\n",
       "Cabin_type_X     0\n",
       "Sex_male         0\n",
       "Embarked_Q       0\n",
       "Embarked_S       0\n",
       "Title_Mr         0\n",
       "Title_Mrs        0\n",
       "Title_Other      0\n",
       "Ticket_type_C    0\n",
       "Ticket_type_F    0\n",
       "Ticket_type_L    0\n",
       "Ticket_type_P    0\n",
       "Ticket_type_S    0\n",
       "Ticket_type_W    0\n",
       "Ticket_type_X    0\n",
       "dtype: int64"
      ]
     },
     "execution_count": 369,
     "metadata": {},
     "output_type": "execute_result"
    }
   ],
   "source": [
    "df_train.isnull().sum()"
   ]
  },
  {
   "cell_type": "code",
   "execution_count": 370,
   "id": "dcdf3143",
   "metadata": {},
   "outputs": [
    {
     "name": "stdout",
     "output_type": "stream",
     "text": [
      "<class 'pandas.core.frame.DataFrame'>\n",
      "RangeIndex: 891 entries, 0 to 890\n",
      "Data columns (total 29 columns):\n",
      " #   Column         Non-Null Count  Dtype  \n",
      "---  ------         --------------  -----  \n",
      " 0   PassengerId    891 non-null    int64  \n",
      " 1   Survived       891 non-null    int64  \n",
      " 2   Pclass         891 non-null    int64  \n",
      " 3   Age            891 non-null    float64\n",
      " 4   SibSp          891 non-null    int64  \n",
      " 5   Parch          891 non-null    int64  \n",
      " 6   Fare           891 non-null    float64\n",
      " 7   Cabin_type_A   891 non-null    uint8  \n",
      " 8   Cabin_type_B   891 non-null    uint8  \n",
      " 9   Cabin_type_C   891 non-null    uint8  \n",
      " 10  Cabin_type_D   891 non-null    uint8  \n",
      " 11  Cabin_type_E   891 non-null    uint8  \n",
      " 12  Cabin_type_F   891 non-null    uint8  \n",
      " 13  Cabin_type_G   891 non-null    uint8  \n",
      " 14  Cabin_type_T   891 non-null    uint8  \n",
      " 15  Cabin_type_X   891 non-null    uint8  \n",
      " 16  Sex_male       891 non-null    uint8  \n",
      " 17  Embarked_Q     891 non-null    uint8  \n",
      " 18  Embarked_S     891 non-null    uint8  \n",
      " 19  Title_Mr       891 non-null    uint8  \n",
      " 20  Title_Mrs      891 non-null    uint8  \n",
      " 21  Title_Other    891 non-null    uint8  \n",
      " 22  Ticket_type_C  891 non-null    uint8  \n",
      " 23  Ticket_type_F  891 non-null    uint8  \n",
      " 24  Ticket_type_L  891 non-null    uint8  \n",
      " 25  Ticket_type_P  891 non-null    uint8  \n",
      " 26  Ticket_type_S  891 non-null    uint8  \n",
      " 27  Ticket_type_W  891 non-null    uint8  \n",
      " 28  Ticket_type_X  891 non-null    uint8  \n",
      "dtypes: float64(2), int64(5), uint8(22)\n",
      "memory usage: 68.0 KB\n"
     ]
    }
   ],
   "source": [
    "df_train.info()"
   ]
  },
  {
   "cell_type": "code",
   "execution_count": 371,
   "id": "599ac781",
   "metadata": {},
   "outputs": [
    {
     "data": {
      "text/plain": [
       "PassengerId      0\n",
       "Pclass           0\n",
       "Age              0\n",
       "SibSp            0\n",
       "Parch            0\n",
       "Fare             0\n",
       "Cabin_type_A     0\n",
       "Cabin_type_B     0\n",
       "Cabin_type_C     0\n",
       "Cabin_type_D     0\n",
       "Cabin_type_E     0\n",
       "Cabin_type_F     0\n",
       "Cabin_type_G     0\n",
       "Cabin_type_X     0\n",
       "Cabin_type_T     0\n",
       "Sex_male         0\n",
       "Embarked_Q       0\n",
       "Embarked_S       0\n",
       "Title_Mr         0\n",
       "Title_Mrs        0\n",
       "Title_Other      0\n",
       "Ticket_type_C    0\n",
       "Ticket_type_F    0\n",
       "Ticket_type_L    0\n",
       "Ticket_type_P    0\n",
       "Ticket_type_S    0\n",
       "Ticket_type_W    0\n",
       "Ticket_type_X    0\n",
       "dtype: int64"
      ]
     },
     "execution_count": 371,
     "metadata": {},
     "output_type": "execute_result"
    }
   ],
   "source": [
    "df_test.isnull().sum()"
   ]
  },
  {
   "cell_type": "code",
   "execution_count": 372,
   "id": "6e4d3818",
   "metadata": {},
   "outputs": [
    {
     "name": "stdout",
     "output_type": "stream",
     "text": [
      "<class 'pandas.core.frame.DataFrame'>\n",
      "RangeIndex: 418 entries, 0 to 417\n",
      "Data columns (total 28 columns):\n",
      " #   Column         Non-Null Count  Dtype  \n",
      "---  ------         --------------  -----  \n",
      " 0   PassengerId    418 non-null    int64  \n",
      " 1   Pclass         418 non-null    int64  \n",
      " 2   Age            418 non-null    float64\n",
      " 3   SibSp          418 non-null    int64  \n",
      " 4   Parch          418 non-null    int64  \n",
      " 5   Fare           418 non-null    float64\n",
      " 6   Cabin_type_A   418 non-null    uint8  \n",
      " 7   Cabin_type_B   418 non-null    uint8  \n",
      " 8   Cabin_type_C   418 non-null    uint8  \n",
      " 9   Cabin_type_D   418 non-null    uint8  \n",
      " 10  Cabin_type_E   418 non-null    uint8  \n",
      " 11  Cabin_type_F   418 non-null    uint8  \n",
      " 12  Cabin_type_G   418 non-null    uint8  \n",
      " 13  Cabin_type_X   418 non-null    uint8  \n",
      " 14  Cabin_type_T   418 non-null    int64  \n",
      " 15  Sex_male       418 non-null    uint8  \n",
      " 16  Embarked_Q     418 non-null    uint8  \n",
      " 17  Embarked_S     418 non-null    uint8  \n",
      " 18  Title_Mr       418 non-null    uint8  \n",
      " 19  Title_Mrs      418 non-null    uint8  \n",
      " 20  Title_Other    418 non-null    uint8  \n",
      " 21  Ticket_type_C  418 non-null    uint8  \n",
      " 22  Ticket_type_F  418 non-null    uint8  \n",
      " 23  Ticket_type_L  418 non-null    uint8  \n",
      " 24  Ticket_type_P  418 non-null    uint8  \n",
      " 25  Ticket_type_S  418 non-null    uint8  \n",
      " 26  Ticket_type_W  418 non-null    uint8  \n",
      " 27  Ticket_type_X  418 non-null    uint8  \n",
      "dtypes: float64(2), int64(5), uint8(21)\n",
      "memory usage: 31.6 KB\n"
     ]
    }
   ],
   "source": [
    "df_test.info()"
   ]
  },
  {
   "cell_type": "markdown",
   "id": "cf9c0103",
   "metadata": {},
   "source": [
    "-----\n",
    "# Now we can create our ML model"
   ]
  },
  {
   "cell_type": "markdown",
   "id": "8142ff09",
   "metadata": {},
   "source": [
    "We will create and evaluate performence of our model on df_train. If we get right accuracy, recall and precision we will performce a prediction on df_test set. We will be using a LogisticRegression in order to create model.\n",
    "\n",
    "Firstly split our df_train on train and test set"
   ]
  },
  {
   "cell_type": "code",
   "execution_count": 373,
   "id": "25a34bc1",
   "metadata": {},
   "outputs": [],
   "source": [
    "X = df_train.drop('Survived', axis=1)"
   ]
  },
  {
   "cell_type": "code",
   "execution_count": 374,
   "id": "2b596457",
   "metadata": {},
   "outputs": [],
   "source": [
    "y = df_train['Survived']"
   ]
  },
  {
   "cell_type": "code",
   "execution_count": 375,
   "id": "77d4f29d",
   "metadata": {},
   "outputs": [],
   "source": [
    "from sklearn.model_selection import train_test_split"
   ]
  },
  {
   "cell_type": "markdown",
   "id": "c8169cc5",
   "metadata": {},
   "source": [
    "We will also scale our date to rise performence"
   ]
  },
  {
   "cell_type": "code",
   "execution_count": 376,
   "id": "3721a3bb",
   "metadata": {},
   "outputs": [],
   "source": [
    "from sklearn.preprocessing import StandardScaler"
   ]
  },
  {
   "cell_type": "code",
   "execution_count": 377,
   "id": "75d3f159",
   "metadata": {},
   "outputs": [],
   "source": [
    "X_train, X_test, y_train, y_test = train_test_split(X, y, test_size=0.2, random_state=42)"
   ]
  },
  {
   "cell_type": "code",
   "execution_count": 378,
   "id": "f1bce780",
   "metadata": {},
   "outputs": [],
   "source": [
    "scaler = StandardScaler()"
   ]
  },
  {
   "cell_type": "code",
   "execution_count": 379,
   "id": "5fb3a13f",
   "metadata": {},
   "outputs": [],
   "source": [
    "X_train = scaler.fit_transform(X_train)"
   ]
  },
  {
   "cell_type": "code",
   "execution_count": 380,
   "id": "4f13f403",
   "metadata": {},
   "outputs": [],
   "source": [
    "X_test = scaler.transform(X_test)"
   ]
  },
  {
   "cell_type": "markdown",
   "id": "3ff808c6",
   "metadata": {},
   "source": [
    "We will use LogisticRegressionCV to find right hyperparameters for our model"
   ]
  },
  {
   "cell_type": "code",
   "execution_count": 381,
   "id": "f72cdf1a",
   "metadata": {},
   "outputs": [],
   "source": [
    "from sklearn.linear_model import LogisticRegressionCV"
   ]
  },
  {
   "cell_type": "code",
   "execution_count": 382,
   "id": "dc7d048d",
   "metadata": {},
   "outputs": [],
   "source": [
    "log_model = LogisticRegressionCV()"
   ]
  },
  {
   "cell_type": "code",
   "execution_count": 383,
   "id": "9433f036",
   "metadata": {},
   "outputs": [
    {
     "data": {
      "text/plain": [
       "LogisticRegressionCV()"
      ]
     },
     "execution_count": 383,
     "metadata": {},
     "output_type": "execute_result"
    }
   ],
   "source": [
    "log_model.fit(X_train, y_train)"
   ]
  },
  {
   "cell_type": "markdown",
   "id": "fc84cc89",
   "metadata": {},
   "source": [
    "Now we will predict values for X_test set"
   ]
  },
  {
   "cell_type": "code",
   "execution_count": 384,
   "id": "95a32a12",
   "metadata": {},
   "outputs": [],
   "source": [
    "y_pred = log_model.predict(X_test)"
   ]
  },
  {
   "cell_type": "markdown",
   "id": "ceb8b42c",
   "metadata": {},
   "source": [
    "We have to evaluate out prediction"
   ]
  },
  {
   "cell_type": "code",
   "execution_count": 385,
   "id": "594c892b",
   "metadata": {},
   "outputs": [],
   "source": [
    "from sklearn.metrics import accuracy_score, classification_report, plot_confusion_matrix"
   ]
  },
  {
   "cell_type": "code",
   "execution_count": 386,
   "id": "be40391b",
   "metadata": {},
   "outputs": [
    {
     "data": {
      "text/plain": [
       "0.8156424581005587"
      ]
     },
     "execution_count": 386,
     "metadata": {},
     "output_type": "execute_result"
    }
   ],
   "source": [
    "accuracy_score(y_test, y_pred)"
   ]
  },
  {
   "cell_type": "code",
   "execution_count": 387,
   "id": "b1597517",
   "metadata": {},
   "outputs": [
    {
     "name": "stdout",
     "output_type": "stream",
     "text": [
      "              precision    recall  f1-score   support\n",
      "\n",
      "           0       0.84      0.85      0.84       105\n",
      "           1       0.78      0.77      0.78        74\n",
      "\n",
      "    accuracy                           0.82       179\n",
      "   macro avg       0.81      0.81      0.81       179\n",
      "weighted avg       0.82      0.82      0.82       179\n",
      "\n"
     ]
    }
   ],
   "source": [
    "print(classification_report(y_test, y_pred))"
   ]
  },
  {
   "cell_type": "code",
   "execution_count": 388,
   "id": "461cc784",
   "metadata": {},
   "outputs": [
    {
     "data": {
      "image/png": "[encoded data removed]",
      "text/plain": [
       "<Figure size 432x288 with 2 Axes>"
      ]
     },
     "metadata": {
      "needs_background": "light"
     },
     "output_type": "display_data"
    }
   ],
   "source": [
    "plot_confusion_matrix(log_model, X_test, y_test);"
   ]
  },
  {
   "cell_type": "code",
   "execution_count": 389,
   "id": "9a451aa1",
   "metadata": {},
   "outputs": [],
   "source": [
    "from sklearn.metrics import plot_precision_recall_curve, plot_roc_curve"
   ]
  },
  {
   "cell_type": "code",
   "execution_count": 390,
   "id": "4694c539",
   "metadata": {},
   "outputs": [
    {
     "data": {
      "image/png": "[encoded data removed]",
      "text/plain": [
       "<Figure size 1800x1200 with 1 Axes>"
      ]
     },
     "metadata": {
      "needs_background": "light"
     },
     "output_type": "display_data"
    }
   ],
   "source": [
    "fig, axes = plt.subplots(figsize=(12,8), dpi=150)\n",
    "plot_roc_curve(log_model, X_test, y_test, ax=axes);"
   ]
  },
  {
   "cell_type": "code",
   "execution_count": 391,
   "id": "ee1acff8",
   "metadata": {},
   "outputs": [
    {
     "data": {
      "image/png": "[encoded data removed]",
      "text/plain": [
       "<Figure size 1800x1200 with 1 Axes>"
      ]
     },
     "metadata": {
      "needs_background": "light"
     },
     "output_type": "display_data"
    }
   ],
   "source": [
    "fig, axes = plt.subplots(figsize=(12,8), dpi=150)\n",
    "plot_precision_recall_curve(log_model, X_test, y_test, ax=axes);"
   ]
  },
  {
   "cell_type": "markdown",
   "id": "48108d28",
   "metadata": {},
   "source": [
    "## We can see that our model performed really well. We can fit our model on whole df_test and performe a finall prediction for df_test."
   ]
  },
  {
   "cell_type": "code",
   "execution_count": 392,
   "id": "e29905fa",
   "metadata": {},
   "outputs": [],
   "source": [
    "X = df_train.drop('Survived', axis=1)"
   ]
  },
  {
   "cell_type": "code",
   "execution_count": 393,
   "id": "896d0869",
   "metadata": {},
   "outputs": [],
   "source": [
    "y = df_train['Survived']"
   ]
  },
  {
   "cell_type": "code",
   "execution_count": 394,
   "id": "63a88e49",
   "metadata": {},
   "outputs": [],
   "source": [
    "scaler = StandardScaler()"
   ]
  },
  {
   "cell_type": "code",
   "execution_count": 395,
   "id": "57b75b17",
   "metadata": {},
   "outputs": [],
   "source": [
    "X = scaler.fit_transform(X)"
   ]
  },
  {
   "cell_type": "code",
   "execution_count": 396,
   "id": "e6288ade",
   "metadata": {},
   "outputs": [],
   "source": [
    "final_model = LogisticRegressionCV()"
   ]
  },
  {
   "cell_type": "code",
   "execution_count": 397,
   "id": "1b9891b6",
   "metadata": {},
   "outputs": [
    {
     "data": {
      "text/plain": [
       "LogisticRegressionCV()"
      ]
     },
     "execution_count": 397,
     "metadata": {},
     "output_type": "execute_result"
    }
   ],
   "source": [
    "final_model.fit(X, y)"
   ]
  },
  {
   "cell_type": "markdown",
   "id": "fc1a3403",
   "metadata": {},
   "source": [
    "#### We created final model, it's time to use it on our unseen data - df_test"
   ]
  },
  {
   "cell_type": "code",
   "execution_count": 398,
   "id": "665e0ea5",
   "metadata": {},
   "outputs": [],
   "source": [
    "X_to_pred = df_test"
   ]
  },
  {
   "cell_type": "code",
   "execution_count": 399,
   "id": "71c933e1",
   "metadata": {},
   "outputs": [],
   "source": [
    "X_to_pred = scaler.transform(X_to_pred)"
   ]
  },
  {
   "cell_type": "code",
   "execution_count": 400,
   "id": "bc977a0a",
   "metadata": {},
   "outputs": [],
   "source": [
    "y_to_pred = final_model.predict(X_to_pred)"
   ]
  },
  {
   "cell_type": "markdown",
   "id": "68f7c8ae",
   "metadata": {},
   "source": [
    "We will create a Series containing our prediction and join that with df_test to have one large, nice DataFrama with labeled column."
   ]
  },
  {
   "cell_type": "code",
   "execution_count": 401,
   "id": "ff2abe00",
   "metadata": {},
   "outputs": [],
   "source": [
    "sur = pd.Series(data=y_to_pred, name='Survived')"
   ]
  },
  {
   "cell_type": "code",
   "execution_count": 402,
   "id": "04d6e317",
   "metadata": {},
   "outputs": [],
   "source": [
    "df= pd.concat([df_test, sur], axis=1)"
   ]
  },
  {
   "cell_type": "code",
   "execution_count": 403,
   "id": "4d7f76d2",
   "metadata": {},
   "outputs": [
    {
     "data": {
      "text/html": [
       "<div>\n",
       "<style scoped>\n",
       "    .dataframe tbody tr th:only-of-type {\n",
       "        vertical-align: middle;\n",
       "    }\n",
       "\n",
       "    .dataframe tbody tr th {\n",
       "        vertical-align: top;\n",
       "    }\n",
       "\n",
       "    .dataframe thead th {\n",
       "        text-align: right;\n",
       "    }\n",
       "</style>\n",
       "<table border=\"1\" class=\"dataframe\">\n",
       "  <thead>\n",
       "    <tr style=\"text-align: right;\">\n",
       "      <th></th>\n",
       "      <th>PassengerId</th>\n",
       "      <th>Pclass</th>\n",
       "      <th>Age</th>\n",
       "      <th>SibSp</th>\n",
       "      <th>Parch</th>\n",
       "      <th>Fare</th>\n",
       "      <th>Cabin_type_A</th>\n",
       "      <th>Cabin_type_B</th>\n",
       "      <th>Cabin_type_C</th>\n",
       "      <th>Cabin_type_D</th>\n",
       "      <th>...</th>\n",
       "      <th>Title_Mrs</th>\n",
       "      <th>Title_Other</th>\n",
       "      <th>Ticket_type_C</th>\n",
       "      <th>Ticket_type_F</th>\n",
       "      <th>Ticket_type_L</th>\n",
       "      <th>Ticket_type_P</th>\n",
       "      <th>Ticket_type_S</th>\n",
       "      <th>Ticket_type_W</th>\n",
       "      <th>Ticket_type_X</th>\n",
       "      <th>Survived</th>\n",
       "    </tr>\n",
       "  </thead>\n",
       "  <tbody>\n",
       "    <tr>\n",
       "      <th>0</th>\n",
       "      <td>892</td>\n",
       "      <td>3</td>\n",
       "      <td>34.50000</td>\n",
       "      <td>0</td>\n",
       "      <td>0</td>\n",
       "      <td>7.8292</td>\n",
       "      <td>0</td>\n",
       "      <td>0</td>\n",
       "      <td>0</td>\n",
       "      <td>0</td>\n",
       "      <td>...</td>\n",
       "      <td>0</td>\n",
       "      <td>0</td>\n",
       "      <td>0</td>\n",
       "      <td>0</td>\n",
       "      <td>0</td>\n",
       "      <td>0</td>\n",
       "      <td>0</td>\n",
       "      <td>0</td>\n",
       "      <td>1</td>\n",
       "      <td>0</td>\n",
       "    </tr>\n",
       "    <tr>\n",
       "      <th>1</th>\n",
       "      <td>893</td>\n",
       "      <td>3</td>\n",
       "      <td>47.00000</td>\n",
       "      <td>1</td>\n",
       "      <td>0</td>\n",
       "      <td>7.0000</td>\n",
       "      <td>0</td>\n",
       "      <td>0</td>\n",
       "      <td>0</td>\n",
       "      <td>0</td>\n",
       "      <td>...</td>\n",
       "      <td>1</td>\n",
       "      <td>0</td>\n",
       "      <td>0</td>\n",
       "      <td>0</td>\n",
       "      <td>0</td>\n",
       "      <td>0</td>\n",
       "      <td>0</td>\n",
       "      <td>0</td>\n",
       "      <td>1</td>\n",
       "      <td>0</td>\n",
       "    </tr>\n",
       "    <tr>\n",
       "      <th>2</th>\n",
       "      <td>894</td>\n",
       "      <td>2</td>\n",
       "      <td>62.00000</td>\n",
       "      <td>0</td>\n",
       "      <td>0</td>\n",
       "      <td>9.6875</td>\n",
       "      <td>0</td>\n",
       "      <td>0</td>\n",
       "      <td>0</td>\n",
       "      <td>0</td>\n",
       "      <td>...</td>\n",
       "      <td>0</td>\n",
       "      <td>0</td>\n",
       "      <td>0</td>\n",
       "      <td>0</td>\n",
       "      <td>0</td>\n",
       "      <td>0</td>\n",
       "      <td>0</td>\n",
       "      <td>0</td>\n",
       "      <td>1</td>\n",
       "      <td>0</td>\n",
       "    </tr>\n",
       "    <tr>\n",
       "      <th>3</th>\n",
       "      <td>895</td>\n",
       "      <td>3</td>\n",
       "      <td>27.00000</td>\n",
       "      <td>0</td>\n",
       "      <td>0</td>\n",
       "      <td>8.6625</td>\n",
       "      <td>0</td>\n",
       "      <td>0</td>\n",
       "      <td>0</td>\n",
       "      <td>0</td>\n",
       "      <td>...</td>\n",
       "      <td>0</td>\n",
       "      <td>0</td>\n",
       "      <td>0</td>\n",
       "      <td>0</td>\n",
       "      <td>0</td>\n",
       "      <td>0</td>\n",
       "      <td>0</td>\n",
       "      <td>0</td>\n",
       "      <td>1</td>\n",
       "      <td>0</td>\n",
       "    </tr>\n",
       "    <tr>\n",
       "      <th>4</th>\n",
       "      <td>896</td>\n",
       "      <td>3</td>\n",
       "      <td>22.00000</td>\n",
       "      <td>1</td>\n",
       "      <td>1</td>\n",
       "      <td>12.2875</td>\n",
       "      <td>0</td>\n",
       "      <td>0</td>\n",
       "      <td>0</td>\n",
       "      <td>0</td>\n",
       "      <td>...</td>\n",
       "      <td>1</td>\n",
       "      <td>0</td>\n",
       "      <td>0</td>\n",
       "      <td>0</td>\n",
       "      <td>0</td>\n",
       "      <td>0</td>\n",
       "      <td>0</td>\n",
       "      <td>0</td>\n",
       "      <td>1</td>\n",
       "      <td>0</td>\n",
       "    </tr>\n",
       "    <tr>\n",
       "      <th>...</th>\n",
       "      <td>...</td>\n",
       "      <td>...</td>\n",
       "      <td>...</td>\n",
       "      <td>...</td>\n",
       "      <td>...</td>\n",
       "      <td>...</td>\n",
       "      <td>...</td>\n",
       "      <td>...</td>\n",
       "      <td>...</td>\n",
       "      <td>...</td>\n",
       "      <td>...</td>\n",
       "      <td>...</td>\n",
       "      <td>...</td>\n",
       "      <td>...</td>\n",
       "      <td>...</td>\n",
       "      <td>...</td>\n",
       "      <td>...</td>\n",
       "      <td>...</td>\n",
       "      <td>...</td>\n",
       "      <td>...</td>\n",
       "      <td>...</td>\n",
       "    </tr>\n",
       "    <tr>\n",
       "      <th>413</th>\n",
       "      <td>1305</td>\n",
       "      <td>3</td>\n",
       "      <td>30.27259</td>\n",
       "      <td>0</td>\n",
       "      <td>0</td>\n",
       "      <td>8.0500</td>\n",
       "      <td>0</td>\n",
       "      <td>0</td>\n",
       "      <td>0</td>\n",
       "      <td>0</td>\n",
       "      <td>...</td>\n",
       "      <td>0</td>\n",
       "      <td>0</td>\n",
       "      <td>0</td>\n",
       "      <td>0</td>\n",
       "      <td>0</td>\n",
       "      <td>0</td>\n",
       "      <td>0</td>\n",
       "      <td>0</td>\n",
       "      <td>0</td>\n",
       "      <td>0</td>\n",
       "    </tr>\n",
       "    <tr>\n",
       "      <th>414</th>\n",
       "      <td>1306</td>\n",
       "      <td>1</td>\n",
       "      <td>39.00000</td>\n",
       "      <td>0</td>\n",
       "      <td>0</td>\n",
       "      <td>108.9000</td>\n",
       "      <td>0</td>\n",
       "      <td>0</td>\n",
       "      <td>1</td>\n",
       "      <td>0</td>\n",
       "      <td>...</td>\n",
       "      <td>0</td>\n",
       "      <td>1</td>\n",
       "      <td>0</td>\n",
       "      <td>0</td>\n",
       "      <td>0</td>\n",
       "      <td>1</td>\n",
       "      <td>0</td>\n",
       "      <td>0</td>\n",
       "      <td>0</td>\n",
       "      <td>1</td>\n",
       "    </tr>\n",
       "    <tr>\n",
       "      <th>415</th>\n",
       "      <td>1307</td>\n",
       "      <td>3</td>\n",
       "      <td>38.50000</td>\n",
       "      <td>0</td>\n",
       "      <td>0</td>\n",
       "      <td>7.2500</td>\n",
       "      <td>0</td>\n",
       "      <td>0</td>\n",
       "      <td>0</td>\n",
       "      <td>0</td>\n",
       "      <td>...</td>\n",
       "      <td>0</td>\n",
       "      <td>0</td>\n",
       "      <td>0</td>\n",
       "      <td>0</td>\n",
       "      <td>0</td>\n",
       "      <td>0</td>\n",
       "      <td>1</td>\n",
       "      <td>0</td>\n",
       "      <td>0</td>\n",
       "      <td>0</td>\n",
       "    </tr>\n",
       "    <tr>\n",
       "      <th>416</th>\n",
       "      <td>1308</td>\n",
       "      <td>3</td>\n",
       "      <td>30.27259</td>\n",
       "      <td>0</td>\n",
       "      <td>0</td>\n",
       "      <td>8.0500</td>\n",
       "      <td>0</td>\n",
       "      <td>0</td>\n",
       "      <td>0</td>\n",
       "      <td>0</td>\n",
       "      <td>...</td>\n",
       "      <td>0</td>\n",
       "      <td>0</td>\n",
       "      <td>0</td>\n",
       "      <td>0</td>\n",
       "      <td>0</td>\n",
       "      <td>0</td>\n",
       "      <td>0</td>\n",
       "      <td>0</td>\n",
       "      <td>1</td>\n",
       "      <td>0</td>\n",
       "    </tr>\n",
       "    <tr>\n",
       "      <th>417</th>\n",
       "      <td>1309</td>\n",
       "      <td>3</td>\n",
       "      <td>30.27259</td>\n",
       "      <td>1</td>\n",
       "      <td>1</td>\n",
       "      <td>22.3583</td>\n",
       "      <td>0</td>\n",
       "      <td>0</td>\n",
       "      <td>0</td>\n",
       "      <td>0</td>\n",
       "      <td>...</td>\n",
       "      <td>0</td>\n",
       "      <td>0</td>\n",
       "      <td>0</td>\n",
       "      <td>0</td>\n",
       "      <td>0</td>\n",
       "      <td>0</td>\n",
       "      <td>0</td>\n",
       "      <td>0</td>\n",
       "      <td>1</td>\n",
       "      <td>0</td>\n",
       "    </tr>\n",
       "  </tbody>\n",
       "</table>\n",
       "<p>418 rows × 29 columns</p>\n",
       "</div>"
      ],
      "text/plain": [
       "     PassengerId  Pclass       Age  SibSp  Parch      Fare  Cabin_type_A  \\\n",
       "0            892       3  34.50000      0      0    7.8292             0   \n",
       "1            893       3  47.00000      1      0    7.0000             0   \n",
       "2            894       2  62.00000      0      0    9.6875             0   \n",
       "3            895       3  27.00000      0      0    8.6625             0   \n",
       "4            896       3  22.00000      1      1   12.2875             0   \n",
       "..           ...     ...       ...    ...    ...       ...           ...   \n",
       "413         1305       3  30.27259      0      0    8.0500             0   \n",
       "414         1306       1  39.00000      0      0  108.9000             0   \n",
       "415         1307       3  38.50000      0      0    7.2500             0   \n",
       "416         1308       3  30.27259      0      0    8.0500             0   \n",
       "417         1309       3  30.27259      1      1   22.3583             0   \n",
       "\n",
       "     Cabin_type_B  Cabin_type_C  Cabin_type_D  ...  Title_Mrs  Title_Other  \\\n",
       "0               0             0             0  ...          0            0   \n",
       "1               0             0             0  ...          1            0   \n",
       "2               0             0             0  ...          0            0   \n",
       "3               0             0             0  ...          0            0   \n",
       "4               0             0             0  ...          1            0   \n",
       "..            ...           ...           ...  ...        ...          ...   \n",
       "413             0             0             0  ...          0            0   \n",
       "414             0             1             0  ...          0            1   \n",
       "415             0             0             0  ...          0            0   \n",
       "416             0             0             0  ...          0            0   \n",
       "417             0             0             0  ...          0            0   \n",
       "\n",
       "     Ticket_type_C  Ticket_type_F  Ticket_type_L  Ticket_type_P  \\\n",
       "0                0              0              0              0   \n",
       "1                0              0              0              0   \n",
       "2                0              0              0              0   \n",
       "3                0              0              0              0   \n",
       "4                0              0              0              0   \n",
       "..             ...            ...            ...            ...   \n",
       "413              0              0              0              0   \n",
       "414              0              0              0              1   \n",
       "415              0              0              0              0   \n",
       "416              0              0              0              0   \n",
       "417              0              0              0              0   \n",
       "\n",
       "     Ticket_type_S  Ticket_type_W  Ticket_type_X  Survived  \n",
       "0                0              0              1         0  \n",
       "1                0              0              1         0  \n",
       "2                0              0              1         0  \n",
       "3                0              0              1         0  \n",
       "4                0              0              1         0  \n",
       "..             ...            ...            ...       ...  \n",
       "413              0              0              0         0  \n",
       "414              0              0              0         1  \n",
       "415              1              0              0         0  \n",
       "416              0              0              1         0  \n",
       "417              0              0              1         0  \n",
       "\n",
       "[418 rows x 29 columns]"
      ]
     },
     "execution_count": 403,
     "metadata": {},
     "output_type": "execute_result"
    }
   ],
   "source": [
    "df"
   ]
  }
 ],
 "metadata": {
  "kernelspec": {
   "display_name": "Python 3",
   "language": "python",
   "name": "python3"
  },
  "language_info": {
   "codemirror_mode": {
    "name": "ipython",
    "version": 3
   },
   "file_extension": ".py",
   "mimetype": "text/x-python",
   "name": "python",
   "nbconvert_exporter": "python",
   "pygments_lexer": "ipython3",
   "version": "3.8.8"
  }
 },
 "nbformat": 4,
 "nbformat_minor": 5
}
